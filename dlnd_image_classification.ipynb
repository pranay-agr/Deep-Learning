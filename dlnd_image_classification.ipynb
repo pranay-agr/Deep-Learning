{
 "cells": [
  {
   "cell_type": "markdown",
   "metadata": {
    "collapsed": true,
    "deletable": true,
    "editable": true
   },
   "source": [
    "# Image Classification\n",
    "In this project, you'll classify images from the [CIFAR-10 dataset](https://www.cs.toronto.edu/~kriz/cifar.html).  The dataset consists of airplanes, dogs, cats, and other objects. You'll preprocess the images, then train a convolutional neural network on all the samples. The images need to be normalized and the labels need to be one-hot encoded.  You'll get to apply what you learned and build a convolutional, max pooling, dropout, and fully connected layers.  At the end, you'll get to see your neural network's predictions on the sample images.\n",
    "## Get the Data\n",
    "Run the following cell to download the [CIFAR-10 dataset for python](https://www.cs.toronto.edu/~kriz/cifar-10-python.tar.gz)."
   ]
  },
  {
   "cell_type": "code",
   "execution_count": 1,
   "metadata": {
    "collapsed": false,
    "deletable": true,
    "editable": true
   },
   "outputs": [
    {
     "name": "stderr",
     "output_type": "stream",
     "text": [
      "CIFAR-10 Dataset: 171MB [00:39, 4.32MB/s]                              \n"
     ]
    },
    {
     "name": "stdout",
     "output_type": "stream",
     "text": [
      "All files found!\n"
     ]
    }
   ],
   "source": [
    "\"\"\"\n",
    "DON'T MODIFY ANYTHING IN THIS CELL THAT IS BELOW THIS LINE\n",
    "\"\"\"\n",
    "from urllib.request import urlretrieve\n",
    "from os.path import isfile, isdir\n",
    "from tqdm import tqdm\n",
    "import problem_unittests as tests\n",
    "import tarfile\n",
    "\n",
    "cifar10_dataset_folder_path = 'cifar-10-batches-py'\n",
    "\n",
    "class DLProgress(tqdm):\n",
    "    last_block = 0\n",
    "\n",
    "    def hook(self, block_num=1, block_size=1, total_size=None):\n",
    "        self.total = total_size\n",
    "        self.update((block_num - self.last_block) * block_size)\n",
    "        self.last_block = block_num\n",
    "\n",
    "if not isfile('cifar-10-python.tar.gz'):\n",
    "    with DLProgress(unit='B', unit_scale=True, miniters=1, desc='CIFAR-10 Dataset') as pbar:\n",
    "        urlretrieve(\n",
    "            'https://www.cs.toronto.edu/~kriz/cifar-10-python.tar.gz',\n",
    "            'cifar-10-python.tar.gz',\n",
    "            pbar.hook)\n",
    "\n",
    "if not isdir(cifar10_dataset_folder_path):\n",
    "    with tarfile.open('cifar-10-python.tar.gz') as tar:\n",
    "        tar.extractall()\n",
    "        tar.close()\n",
    "\n",
    "\n",
    "tests.test_folder_path(cifar10_dataset_folder_path)"
   ]
  },
  {
   "cell_type": "markdown",
   "metadata": {
    "deletable": true,
    "editable": true
   },
   "source": [
    "## Explore the Data\n",
    "The dataset is broken into batches to prevent your machine from running out of memory.  The CIFAR-10 dataset consists of 5 batches, named `data_batch_1`, `data_batch_2`, etc.. Each batch contains the labels and images that are one of the following:\n",
    "* airplane\n",
    "* automobile\n",
    "* bird\n",
    "* cat\n",
    "* deer\n",
    "* dog\n",
    "* frog\n",
    "* horse\n",
    "* ship\n",
    "* truck\n",
    "\n",
    "Understanding a dataset is part of making predictions on the data.  Play around with the code cell below by changing the `batch_id` and `sample_id`. The `batch_id` is the id for a batch (1-5). The `sample_id` is the id for a image and label pair in the batch.\n",
    "\n",
    "Ask yourself \"What are all possible labels?\", \"What is the range of values for the image data?\", \"Are the labels in order or random?\".  Answers to questions like these will help you preprocess the data and end up with better predictions."
   ]
  },
  {
   "cell_type": "code",
   "execution_count": 9,
   "metadata": {
    "collapsed": false,
    "deletable": true,
    "editable": true
   },
   "outputs": [
    {
     "name": "stdout",
     "output_type": "stream",
     "text": [
      "\n",
      "Stats of batch 2:\n",
      "Samples: 10000\n",
      "Label Counts: {0: 984, 1: 1007, 2: 1010, 3: 995, 4: 1010, 5: 988, 6: 1008, 7: 1026, 8: 987, 9: 985}\n",
      "First 20 Labels: [1, 6, 6, 8, 8, 3, 4, 6, 0, 6, 0, 3, 6, 6, 5, 4, 8, 3, 2, 6]\n",
      "\n",
      "Example of Image 20:\n",
      "Image - Min Value: 24 Max Value: 206\n",
      "Image - Shape: (32, 32, 3)\n",
      "Label - Label Id: 0 Name: airplane\n"
     ]
    },
    {
     "data": {
      "image/png": "[encoded data removed]",
      "text/plain": [
       "<matplotlib.figure.Figure at 0x7f16edc7ebe0>"
      ]
     },
     "metadata": {
      "image/png": {
       "height": 250,
       "width": 253
      }
     },
     "output_type": "display_data"
    }
   ],
   "source": [
    "%matplotlib inline\n",
    "%config InlineBackend.figure_format = 'retina'\n",
    "\n",
    "import helper\n",
    "import numpy as np\n",
    "\n",
    "# Explore the dataset\n",
    "batch_id = 2\n",
    "sample_id = 20\n",
    "helper.display_stats(cifar10_dataset_folder_path, batch_id, sample_id)"
   ]
  },
  {
   "cell_type": "markdown",
   "metadata": {
    "deletable": true,
    "editable": true
   },
   "source": [
    "## Implement Preprocess Functions\n",
    "### Normalize\n",
    "In the cell below, implement the `normalize` function to take in image data, `x`, and return it as a normalized Numpy array. The values should be in the range of 0 to 1, inclusive.  The return object should be the same shape as `x`."
   ]
  },
  {
   "cell_type": "code",
   "execution_count": 10,
   "metadata": {
    "collapsed": false,
    "deletable": true,
    "editable": true
   },
   "outputs": [
    {
     "name": "stdout",
     "output_type": "stream",
     "text": [
      "Tests Passed\n"
     ]
    }
   ],
   "source": [
    "def normalize(x):\n",
    "    \"\"\"\n",
    "    Normalize a list of sample image data in the range of 0 to 1\n",
    "    : x: List of image data.  The image shape is (32, 32, 3)\n",
    "    : return: Numpy array of normalize data\n",
    "    \"\"\"\n",
    "    # TODO: Implement Function\n",
    "    nor_x=x/255\n",
    "    return nor_x\n",
    "\n",
    "    \n",
    "\"\"\"\n",
    "DON'T MODIFY ANYTHING IN THIS CELL THAT IS BELOW THIS LINE\n",
    "\"\"\"\n",
    "tests.test_normalize(normalize)"
   ]
  },
  {
   "cell_type": "markdown",
   "metadata": {
    "deletable": true,
    "editable": true
   },
   "source": [
    "### One-hot encode\n",
    "Just like the previous code cell, you'll be implementing a function for preprocessing.  This time, you'll implement the `one_hot_encode` function. The input, `x`, are a list of labels.  Implement the function to return the list of labels as One-Hot encoded Numpy array.  The possible values for labels are 0 to 9. The one-hot encoding function should return the same encoding for each value between each call to `one_hot_encode`.  Make sure to save the map of encodings outside the function.\n",
    "\n",
    "Hint: Don't reinvent the wheel."
   ]
  },
  {
   "cell_type": "code",
   "execution_count": 29,
   "metadata": {
    "collapsed": false,
    "deletable": true,
    "editable": true
   },
   "outputs": [
    {
     "name": "stdout",
     "output_type": "stream",
     "text": [
      "Tests Passed\n"
     ]
    }
   ],
   "source": [
    "def one_hot_encode(x):\n",
    "    \"\"\"\n",
    "    One hot encode a list of sample labels. Return a one-hot encoded vector for each label.\n",
    "    : x: List of sample Labels\n",
    "    : return: Numpy array of one-hot encoded labels\n",
    "    \"\"\"\n",
    "    # TODO: Implement Function\n",
    "    y = np.eye(10)[x]\n",
    "    return y\n",
    "\n",
    "\n",
    "\"\"\"\n",
    "DON'T MODIFY ANYTHING IN THIS CELL THAT IS BELOW THIS LINE\n",
    "\"\"\"\n",
    "tests.test_one_hot_encode(one_hot_encode)"
   ]
  },
  {
   "cell_type": "markdown",
   "metadata": {
    "deletable": true,
    "editable": true
   },
   "source": [
    "### Randomize Data\n",
    "As you saw from exploring the data above, the order of the samples are randomized.  It doesn't hurt to randomize it again, but you don't need to for this dataset."
   ]
  },
  {
   "cell_type": "markdown",
   "metadata": {
    "deletable": true,
    "editable": true
   },
   "source": [
    "## Preprocess all the data and save it\n",
    "Running the code cell below will preprocess all the CIFAR-10 data and save it to file. The code below also uses 10% of the training data for validation."
   ]
  },
  {
   "cell_type": "code",
   "execution_count": 30,
   "metadata": {
    "collapsed": false,
    "deletable": true,
    "editable": true
   },
   "outputs": [],
   "source": [
    "\"\"\"\n",
    "DON'T MODIFY ANYTHING IN THIS CELL\n",
    "\"\"\"\n",
    "# Preprocess Training, Validation, and Testing Data\n",
    "helper.preprocess_and_save_data(cifar10_dataset_folder_path, normalize, one_hot_encode)"
   ]
  },
  {
   "cell_type": "markdown",
   "metadata": {
    "deletable": true,
    "editable": true
   },
   "source": [
    "# Check Point\n",
    "This is your first checkpoint.  If you ever decide to come back to this notebook or have to restart the notebook, you can start from here.  The preprocessed data has been saved to disk."
   ]
  },
  {
   "cell_type": "code",
   "execution_count": 1,
   "metadata": {
    "collapsed": true,
    "deletable": true,
    "editable": true
   },
   "outputs": [],
   "source": [
    "\"\"\"\n",
    "DON'T MODIFY ANYTHING IN THIS CELL\n",
    "\"\"\"\n",
    "import pickle\n",
    "import problem_unittests as tests\n",
    "import helper\n",
    "\n",
    "# Load the Preprocessed Validation data\n",
    "valid_features, valid_labels = pickle.load(open('preprocess_validation.p', mode='rb'))"
   ]
  },
  {
   "cell_type": "markdown",
   "metadata": {
    "deletable": true,
    "editable": true
   },
   "source": [
    "## Build the network\n",
    "For the neural network, you'll build each layer into a function.  Most of the code you've seen has been outside of functions. To test your code more thoroughly, we require that you put each layer in a function.  This allows us to give you better feedback and test for simple mistakes using our unittests before you submit your project.\n",
    "\n",
    ">**Note:** If you're finding it hard to dedicate enough time for this course each week, we've provided a small shortcut to this part of the project. In the next couple of problems, you'll have the option to use classes from the [TensorFlow Layers](https://www.tensorflow.org/api_docs/python/tf/layers) or [TensorFlow Layers (contrib)](https://www.tensorflow.org/api_guides/python/contrib.layers) packages to build each layer, except the layers you build in the \"Convolutional and Max Pooling Layer\" section.  TF Layers is similar to Keras's and TFLearn's abstraction to layers, so it's easy to pickup.\n",
    "\n",
    ">However, if you would like to get the most out of this course, try to solve all the problems _without_ using anything from the TF Layers packages. You **can** still use classes from other packages that happen to have the same name as ones you find in TF Layers! For example, instead of using the TF Layers version of the `conv2d` class, [tf.layers.conv2d](https://www.tensorflow.org/api_docs/python/tf/layers/conv2d), you would want to use the TF Neural Network version of `conv2d`, [tf.nn.conv2d](https://www.tensorflow.org/api_docs/python/tf/nn/conv2d). \n",
    "\n",
    "Let's begin!\n",
    "\n",
    "### Input\n",
    "The neural network needs to read the image data, one-hot encoded labels, and dropout keep probability. Implement the following functions\n",
    "* Implement `neural_net_image_input`\n",
    " * Return a [TF Placeholder](https://www.tensorflow.org/api_docs/python/tf/placeholder)\n",
    " * Set the shape using `image_shape` with batch size set to `None`.\n",
    " * Name the TensorFlow placeholder \"x\" using the TensorFlow `name` parameter in the [TF Placeholder](https://www.tensorflow.org/api_docs/python/tf/placeholder).\n",
    "* Implement `neural_net_label_input`\n",
    " * Return a [TF Placeholder](https://www.tensorflow.org/api_docs/python/tf/placeholder)\n",
    " * Set the shape using `n_classes` with batch size set to `None`.\n",
    " * Name the TensorFlow placeholder \"y\" using the TensorFlow `name` parameter in the [TF Placeholder](https://www.tensorflow.org/api_docs/python/tf/placeholder).\n",
    "* Implement `neural_net_keep_prob_input`\n",
    " * Return a [TF Placeholder](https://www.tensorflow.org/api_docs/python/tf/placeholder) for dropout keep probability.\n",
    " * Name the TensorFlow placeholder \"keep_prob\" using the TensorFlow `name` parameter in the [TF Placeholder](https://www.tensorflow.org/api_docs/python/tf/placeholder).\n",
    "\n",
    "These names will be used at the end of the project to load your saved model.\n",
    "\n",
    "Note: `None` for shapes in TensorFlow allow for a dynamic size."
   ]
  },
  {
   "cell_type": "code",
   "execution_count": 2,
   "metadata": {
    "collapsed": false,
    "deletable": true,
    "editable": true
   },
   "outputs": [
    {
     "name": "stdout",
     "output_type": "stream",
     "text": [
      "Image Input Tests Passed.\n",
      "Label Input Tests Passed.\n",
      "Keep Prob Tests Passed.\n"
     ]
    }
   ],
   "source": [
    "import tensorflow as tf\n",
    "\n",
    "def neural_net_image_input(image_shape):\n",
    "    \"\"\"\n",
    "    Return a Tensor for a batch of image input\n",
    "    : image_shape: Shape of the images\n",
    "    : return: Tensor for image input.\n",
    "    \"\"\"\n",
    "    # TODO: Implement Function\n",
    "    image = tf.placeholder(\n",
    "    tf.float32,\n",
    "    shape=[None, image_shape[0],image_shape[1],image_shape[2]], name = 'x')\n",
    "    return image\n",
    "\n",
    "\n",
    "def neural_net_label_input(n_classes):\n",
    "    \"\"\"\n",
    "    Return a Tensor for a batch of label input\n",
    "    : n_classes: Number of classes\n",
    "    : return: Tensor for label input.\n",
    "    \"\"\"\n",
    "    # TODO: Implement Function\n",
    "    classes = tf.placeholder(\n",
    "    tf.float32,\n",
    "    shape=[None, n_classes], name = 'y')\n",
    "    return classes\n",
    "\n",
    "\n",
    "def neural_net_keep_prob_input():\n",
    "    \"\"\"\n",
    "    Return a Tensor for keep probability\n",
    "    : return: Tensor for keep probability.\n",
    "    \"\"\"\n",
    "    # TODO: Implement Function\n",
    "    prob = tf.placeholder(\n",
    "    tf.float32,\n",
    "    name = 'keep_prob')\n",
    "    return prob\n",
    "\n",
    "\n",
    "\"\"\"\n",
    "DON'T MODIFY ANYTHING IN THIS CELL THAT IS BELOW THIS LINE\n",
    "\"\"\"\n",
    "tf.reset_default_graph()\n",
    "tests.test_nn_image_inputs(neural_net_image_input)\n",
    "tests.test_nn_label_inputs(neural_net_label_input)\n",
    "tests.test_nn_keep_prob_inputs(neural_net_keep_prob_input)"
   ]
  },
  {
   "cell_type": "markdown",
   "metadata": {
    "deletable": true,
    "editable": true
   },
   "source": [
    "### Convolution and Max Pooling Layer\n",
    "Convolution layers have a lot of success with images. For this code cell, you should implement the function `conv2d_maxpool` to apply convolution then max pooling:\n",
    "* Create the weight and bias using `conv_ksize`, `conv_num_outputs` and the shape of `x_tensor`.\n",
    "* Apply a convolution to `x_tensor` using weight and `conv_strides`.\n",
    " * We recommend you use same padding, but you're welcome to use any padding.\n",
    "* Add bias\n",
    "* Add a nonlinear activation to the convolution.\n",
    "* Apply Max Pooling using `pool_ksize` and `pool_strides`.\n",
    " * We recommend you use same padding, but you're welcome to use any padding.\n",
    "\n",
    "**Note:** You **can't** use [TensorFlow Layers](https://www.tensorflow.org/api_docs/python/tf/layers) or [TensorFlow Layers (contrib)](https://www.tensorflow.org/api_guides/python/contrib.layers) for **this** layer, but you can still use TensorFlow's [Neural Network](https://www.tensorflow.org/api_docs/python/tf/nn) package. You may still use the shortcut option for all the **other** layers."
   ]
  },
  {
   "cell_type": "code",
   "execution_count": 3,
   "metadata": {
    "collapsed": false,
    "deletable": true,
    "editable": true
   },
   "outputs": [
    {
     "name": "stdout",
     "output_type": "stream",
     "text": [
      "Tests Passed\n"
     ]
    }
   ],
   "source": [
    "def conv2d_maxpool(x_tensor, conv_num_outputs, conv_ksize, conv_strides, pool_ksize, pool_strides):\n",
    "    \"\"\"\n",
    "    Apply convolution then max pooling to x_tensor\n",
    "    :param x_tensor: TensorFlow Tensor\n",
    "    :param conv_num_outputs: Number of outputs for the convolutional layer\n",
    "    :param conv_ksize: kernal size 2-D Tuple for the convolutional layer\n",
    "    :param conv_strides: Stride 2-D Tuple for convolution\n",
    "    :param pool_ksize: kernal size 2-D Tuple for pool\n",
    "    :param pool_strides: Stride 2-D Tuple for pool\n",
    "    : return: A tensor that represents convolution and max pooling of x_tensor\n",
    "    \"\"\"\n",
    "    # TODO: Implement Function\n",
    "    size = x_tensor.get_shape().as_list()\n",
    "    weight = tf.Variable(tf.truncated_normal(\n",
    "        [conv_ksize[0], conv_ksize[1], size[3], conv_num_outputs]))\n",
    "    bias = tf.Variable(tf.zeros(conv_num_outputs))\n",
    "    \n",
    "    conv_layer = tf.nn.conv2d(x_tensor, weight, [1, conv_strides[0], \n",
    "        conv_strides[1], 1], padding='SAME')\n",
    "    # Add bias\n",
    "    conv_layer = tf.nn.bias_add(conv_layer, bias)\n",
    "    conv_layer = tf.nn.relu(conv_layer)\n",
    "\n",
    "    conv_layer = tf.nn.max_pool(\n",
    "        conv_layer,\n",
    "        ksize=[1, pool_ksize[0], pool_ksize[1], 1],\n",
    "        strides=[1, pool_strides[0], pool_strides[1], 1],\n",
    "        padding='SAME')\n",
    "\n",
    "    return conv_layer \n",
    "\n",
    "\n",
    "\"\"\"\n",
    "DON'T MODIFY ANYTHING IN THIS CELL THAT IS BELOW THIS LINE\n",
    "\"\"\"\n",
    "tests.test_con_pool(conv2d_maxpool)"
   ]
  },
  {
   "cell_type": "markdown",
   "metadata": {
    "deletable": true,
    "editable": true
   },
   "source": [
    "### Flatten Layer\n",
    "Implement the `flatten` function to change the dimension of `x_tensor` from a 4-D tensor to a 2-D tensor.  The output should be the shape (*Batch Size*, *Flattened Image Size*). Shortcut option: you can use classes from the [TensorFlow Layers](https://www.tensorflow.org/api_docs/python/tf/layers) or [TensorFlow Layers (contrib)](https://www.tensorflow.org/api_guides/python/contrib.layers) packages for this layer. For more of a challenge, only use other TensorFlow packages."
   ]
  },
  {
   "cell_type": "code",
   "execution_count": 4,
   "metadata": {
    "collapsed": false,
    "deletable": true,
    "editable": true
   },
   "outputs": [
    {
     "name": "stdout",
     "output_type": "stream",
     "text": [
      "Tests Passed\n"
     ]
    }
   ],
   "source": [
    "def flatten(x_tensor):\n",
    "    \"\"\"\n",
    "    Flatten x_tensor to (Batch Size, Flattened Image Size)\n",
    "    : x_tensor: A tensor of size (Batch Size, ...), where ... are the image dimensions.\n",
    "    : return: A tensor of size (Batch Size, Flattened Image Size).\n",
    "    \"\"\"\n",
    "    # TODO: Implement Function\n",
    "    fc = tf.contrib.layers.flatten(x_tensor)\n",
    "    return fc\n",
    "\n",
    "\n",
    "\"\"\"\n",
    "DON'T MODIFY ANYTHING IN THIS CELL THAT IS BELOW THIS LINE\n",
    "\"\"\"\n",
    "tests.test_flatten(flatten)"
   ]
  },
  {
   "cell_type": "markdown",
   "metadata": {
    "deletable": true,
    "editable": true
   },
   "source": [
    "### Fully-Connected Layer\n",
    "Implement the `fully_conn` function to apply a fully connected layer to `x_tensor` with the shape (*Batch Size*, *num_outputs*). Shortcut option: you can use classes from the [TensorFlow Layers](https://www.tensorflow.org/api_docs/python/tf/layers) or [TensorFlow Layers (contrib)](https://www.tensorflow.org/api_guides/python/contrib.layers) packages for this layer. For more of a challenge, only use other TensorFlow packages."
   ]
  },
  {
   "cell_type": "code",
   "execution_count": 5,
   "metadata": {
    "collapsed": false,
    "deletable": true,
    "editable": true
   },
   "outputs": [
    {
     "name": "stdout",
     "output_type": "stream",
     "text": [
      "Tests Passed\n"
     ]
    }
   ],
   "source": [
    "def fully_conn(x_tensor, num_outputs):\n",
    "    \"\"\"\n",
    "    Apply a fully connected layer to x_tensor using weight and bias\n",
    "    : x_tensor: A 2-D tensor where the first dimension is batch size.\n",
    "    : num_outputs: The number of output that the new tensor should be.\n",
    "    : return: A 2-D tensor where the second dimension is num_outputs.\n",
    "    \"\"\"\n",
    "    # TODO: Implement Function\n",
    "    \n",
    "    fc1=tf.contrib.layers.fully_connected(x_tensor, num_outputs)\n",
    "    return fc1\n",
    "\n",
    "\n",
    "\"\"\"\n",
    "DON'T MODIFY ANYTHING IN THIS CELL THAT IS BELOW THIS LINE\n",
    "\"\"\"\n",
    "tests.test_fully_conn(fully_conn)"
   ]
  },
  {
   "cell_type": "markdown",
   "metadata": {
    "deletable": true,
    "editable": true
   },
   "source": [
    "### Output Layer\n",
    "Implement the `output` function to apply a fully connected layer to `x_tensor` with the shape (*Batch Size*, *num_outputs*). Shortcut option: you can use classes from the [TensorFlow Layers](https://www.tensorflow.org/api_docs/python/tf/layers) or [TensorFlow Layers (contrib)](https://www.tensorflow.org/api_guides/python/contrib.layers) packages for this layer. For more of a challenge, only use other TensorFlow packages.\n",
    "\n",
    "**Note:** Activation, softmax, or cross entropy should **not** be applied to this."
   ]
  },
  {
   "cell_type": "code",
   "execution_count": 6,
   "metadata": {
    "collapsed": false,
    "deletable": true,
    "editable": true
   },
   "outputs": [
    {
     "name": "stdout",
     "output_type": "stream",
     "text": [
      "Tests Passed\n"
     ]
    }
   ],
   "source": [
    "def output(x_tensor, num_outputs):\n",
    "    \"\"\"\n",
    "    Apply a output layer to x_tensor using weight and bias\n",
    "    : x_tensor: A 2-D tensor where the first dimension is batch size.\n",
    "    : num_outputs: The number of output that the new tensor should be.\n",
    "    : return: A 2-D tensor where the second dimension is num_outputs.\n",
    "    \"\"\"\n",
    "    # TODO: Implement Function\n",
    "    fc1=tf.contrib.layers.fully_connected(x_tensor, num_outputs)\n",
    "    return fc1\n",
    "\n",
    "\n",
    "\"\"\"\n",
    "DON'T MODIFY ANYTHING IN THIS CELL THAT IS BELOW THIS LINE\n",
    "\"\"\"\n",
    "tests.test_output(output)"
   ]
  },
  {
   "cell_type": "markdown",
   "metadata": {
    "deletable": true,
    "editable": true
   },
   "source": [
    "### Create Convolutional Model\n",
    "Implement the function `conv_net` to create a convolutional neural network model. The function takes in a batch of images, `x`, and outputs logits.  Use the layers you created above to create this model:\n",
    "\n",
    "* Apply 1, 2, or 3 Convolution and Max Pool layers\n",
    "* Apply a Flatten Layer\n",
    "* Apply 1, 2, or 3 Fully Connected Layers\n",
    "* Apply an Output Layer\n",
    "* Return the output\n",
    "* Apply [TensorFlow's Dropout](https://www.tensorflow.org/api_docs/python/tf/nn/dropout) to one or more layers in the model using `keep_prob`. "
   ]
  },
  {
   "cell_type": "code",
   "execution_count": 76,
   "metadata": {
    "collapsed": false,
    "deletable": true,
    "editable": true
   },
   "outputs": [
    {
     "name": "stdout",
     "output_type": "stream",
     "text": [
      "Neural Network Built!\n"
     ]
    }
   ],
   "source": [
    "def conv_net(x, keep_prob):\n",
    "    \"\"\"\n",
    "    Create a convolutional neural network model\n",
    "    : x: Placeholder tensor that holds image data.\n",
    "    : keep_prob: Placeholder tensor that hold dropout keep probability.\n",
    "    : return: Tensor that represents logits\n",
    "    \"\"\"\n",
    "    # TODO: Apply 1, 2, or 3 Convolution and Max Pool layers\n",
    "    #    Play around with different number of outputs, kernel size and stride\n",
    "    # Function Definition from Above:\n",
    "    #   conv2d_maxpool(x_tensor, conv_num_outputs, conv_ksize, conv_strides, pool_ksize, pool_strides)\n",
    "    x=conv2d_maxpool(x, 5, [2,2], [2,2], [2,2], [2,2])\n",
    "    x=conv2d_maxpool(x, 15, [2,2], [2,2], [2,2], [2,2])\n",
    "    x=conv2d_maxpool(x, 25, [2,2], [2,2], [2,2], [2,2])\n",
    "\n",
    "    # TODO: Apply a Flatten Layer\n",
    "    # Function Definition from Above:\n",
    "    #   flatten(x_tensor)\n",
    "    x=flatten(x)\n",
    "    \n",
    "\n",
    "    # TODO: Apply 1, 2, or 3 Fully Connected Layers\n",
    "    #    Play around with different number of outputs\n",
    "    # Function Definition from Above:\n",
    "    #   fully_conn(x_tensor, num_outputs)\n",
    "    x=fully_conn(x,200)    \n",
    "    x=fully_conn(x,110)\n",
    "    x=fully_conn(x,30)\n",
    "    x = tf.nn.dropout(x, keep_prob)\n",
    "    # TODO: Apply an Output Layer\n",
    "    #    Set this to the number of classes\n",
    "    # Function Definition from Above:\n",
    "    #   output(x_tensor, num_outputs)\n",
    "    x=output(x,10)\n",
    "    \n",
    "    # TODO: return output\n",
    "    return x\n",
    "\n",
    "\n",
    "\"\"\"\n",
    "DON'T MODIFY ANYTHING IN THIS CELL THAT IS BELOW THIS LINE\n",
    "\"\"\"\n",
    "\n",
    "##############################\n",
    "## Build the Neural Network ##\n",
    "##############################\n",
    "\n",
    "# Remove previous weights, bias, inputs, etc..\n",
    "tf.reset_default_graph()\n",
    "\n",
    "# Inputs\n",
    "x = neural_net_image_input((32, 32, 3))\n",
    "y = neural_net_label_input(10)\n",
    "keep_prob = neural_net_keep_prob_input()\n",
    "\n",
    "# Model\n",
    "logits = conv_net(x, keep_prob)\n",
    "\n",
    "# Name logits Tensor, so that is can be loaded from disk after training\n",
    "logits = tf.identity(logits, name='logits')\n",
    "\n",
    "# Loss and Optimizer\n",
    "cost = tf.reduce_mean(tf.nn.softmax_cross_entropy_with_logits(logits=logits, labels=y))\n",
    "optimizer = tf.train.AdamOptimizer().minimize(cost)\n",
    "\n",
    "# Accuracy\n",
    "correct_pred = tf.equal(tf.argmax(logits, 1), tf.argmax(y, 1))\n",
    "accuracy = tf.reduce_mean(tf.cast(correct_pred, tf.float32), name='accuracy')\n",
    "\n",
    "tests.test_conv_net(conv_net)"
   ]
  },
  {
   "cell_type": "markdown",
   "metadata": {
    "deletable": true,
    "editable": true
   },
   "source": [
    "## Train the Neural Network\n",
    "### Single Optimization\n",
    "Implement the function `train_neural_network` to do a single optimization.  The optimization should use `optimizer` to optimize in `session` with a `feed_dict` of the following:\n",
    "* `x` for image input\n",
    "* `y` for labels\n",
    "* `keep_prob` for keep probability for dropout\n",
    "\n",
    "This function will be called for each batch, so `tf.global_variables_initializer()` has already been called.\n",
    "\n",
    "Note: Nothing needs to be returned. This function is only optimizing the neural network."
   ]
  },
  {
   "cell_type": "code",
   "execution_count": 23,
   "metadata": {
    "collapsed": false,
    "deletable": true,
    "editable": true
   },
   "outputs": [
    {
     "name": "stdout",
     "output_type": "stream",
     "text": [
      "Tests Passed\n"
     ]
    }
   ],
   "source": [
    "def train_neural_network(session, optimizer, keep_probability, feature_batch, label_batch):\n",
    "    \"\"\"\n",
    "    Optimize the session on a batch of images and labels\n",
    "    : session: Current TensorFlow session\n",
    "    : optimizer: TensorFlow optimizer function\n",
    "    : keep_probability: keep probability\n",
    "    : feature_batch: Batch of Numpy image data\n",
    "    : label_batch: Batch of Numpy label data\n",
    "    \"\"\"\n",
    "    # TODO: Implement Function\n",
    "    session.run(optimizer, feed_dict={\n",
    "        x: feature_batch,\n",
    "        y: label_batch,\n",
    "        keep_prob: keep_probability})\n",
    "    pass\n",
    "\n",
    "\n",
    "\"\"\"\n",
    "DON'T MODIFY ANYTHING IN THIS CELL THAT IS BELOW THIS LINE\n",
    "\"\"\"\n",
    "tests.test_train_nn(train_neural_network)"
   ]
  },
  {
   "cell_type": "markdown",
   "metadata": {
    "deletable": true,
    "editable": true
   },
   "source": [
    "### Show Stats\n",
    "Implement the function `print_stats` to print loss and validation accuracy.  Use the global variables `valid_features` and `valid_labels` to calculate validation accuracy.  Use a keep probability of `1.0` to calculate the loss and validation accuracy."
   ]
  },
  {
   "cell_type": "code",
   "execution_count": 46,
   "metadata": {
    "collapsed": false,
    "deletable": true,
    "editable": true
   },
   "outputs": [],
   "source": [
    "def print_stats(session, feature_batch, label_batch, cost, accuracy):\n",
    "    \"\"\"\n",
    "    Print information about loss and validation accuracy\n",
    "    : session: Current TensorFlow session\n",
    "    : feature_batch: Batch of Numpy image data\n",
    "    : label_batch: Batch of Numpy label data\n",
    "    : cost: TensorFlow cost function\n",
    "    : accuracy: TensorFlow accuracy function\n",
    "    \"\"\"\n",
    "    # TODO: Implement Function\n",
    "    loss = sess.run(cost, feed_dict={\n",
    "        x: feature_batch, y: label_batch, keep_prob: 1.})\n",
    "            \n",
    "    valid_acc = sess.run(accuracy, feed_dict={\n",
    "        x: valid_features,\n",
    "        y: valid_labels,\n",
    "        keep_prob: 1.})\n",
    "\n",
    "    print('Loss: {:>10.4f} Validation Accuracy: {:.6f}'.format(loss, valid_acc))\n",
    "\n",
    "    pass"
   ]
  },
  {
   "cell_type": "markdown",
   "metadata": {
    "deletable": true,
    "editable": true
   },
   "source": [
    "### Hyperparameters\n",
    "Tune the following parameters:\n",
    "* Set `epochs` to the number of iterations until the network stops learning or start overfitting\n",
    "* Set `batch_size` to the highest number that your machine has memory for.  Most people set them to common sizes of memory:\n",
    " * 64\n",
    " * 128\n",
    " * 256\n",
    " * ...\n",
    "* Set `keep_probability` to the probability of keeping a node using dropout"
   ]
  },
  {
   "cell_type": "code",
   "execution_count": 72,
   "metadata": {
    "collapsed": true,
    "deletable": true,
    "editable": true
   },
   "outputs": [],
   "source": [
    "# TODO: Tune Parameters\n",
    "epochs = 30\n",
    "batch_size = 256\n",
    "keep_probability = 0.6"
   ]
  },
  {
   "cell_type": "markdown",
   "metadata": {
    "deletable": true,
    "editable": true
   },
   "source": [
    "### Train on a Single CIFAR-10 Batch\n",
    "Instead of training the neural network on all the CIFAR-10 batches of data, let's use a single batch. This should save time while you iterate on the model to get a better accuracy.  Once the final validation accuracy is 50% or greater, run the model on all the data in the next section."
   ]
  },
  {
   "cell_type": "code",
   "execution_count": 77,
   "metadata": {
    "collapsed": false,
    "deletable": true,
    "editable": true
   },
   "outputs": [
    {
     "name": "stdout",
     "output_type": "stream",
     "text": [
      "Checking the Training on a Single Batch...\n",
      "Epoch  1, CIFAR-10 Batch 1:  Loss:     2.2570 Validation Accuracy: 0.148000\n",
      "Epoch  2, CIFAR-10 Batch 1:  Loss:     2.2362 Validation Accuracy: 0.166200\n",
      "Epoch  3, CIFAR-10 Batch 1:  Loss:     2.2436 Validation Accuracy: 0.173000\n",
      "Epoch  4, CIFAR-10 Batch 1:  Loss:     2.2084 Validation Accuracy: 0.186600\n",
      "Epoch  5, CIFAR-10 Batch 1:  Loss:     2.0809 Validation Accuracy: 0.193800\n",
      "Epoch  6, CIFAR-10 Batch 1:  Loss:     2.1101 Validation Accuracy: 0.201000\n",
      "Epoch  7, CIFAR-10 Batch 1:  Loss:     2.0435 Validation Accuracy: 0.199800\n",
      "Epoch  8, CIFAR-10 Batch 1:  Loss:     2.0275 Validation Accuracy: 0.226000\n",
      "Epoch  9, CIFAR-10 Batch 1:  Loss:     1.9959 Validation Accuracy: 0.225000\n",
      "Epoch 10, CIFAR-10 Batch 1:  Loss:     1.9534 Validation Accuracy: 0.235800\n",
      "Epoch 11, CIFAR-10 Batch 1:  Loss:     1.9214 Validation Accuracy: 0.248000\n",
      "Epoch 12, CIFAR-10 Batch 1:  Loss:     1.9017 Validation Accuracy: 0.254200\n",
      "Epoch 13, CIFAR-10 Batch 1:  Loss:     1.9042 Validation Accuracy: 0.261000\n",
      "Epoch 14, CIFAR-10 Batch 1:  Loss:     1.8494 Validation Accuracy: 0.265800\n",
      "Epoch 15, CIFAR-10 Batch 1:  Loss:     1.8357 Validation Accuracy: 0.281800\n",
      "Epoch 16, CIFAR-10 Batch 1:  Loss:     1.8151 Validation Accuracy: 0.280000\n",
      "Epoch 17, CIFAR-10 Batch 1:  Loss:     1.7750 Validation Accuracy: 0.284200\n",
      "Epoch 18, CIFAR-10 Batch 1:  Loss:     1.7610 Validation Accuracy: 0.289400\n",
      "Epoch 19, CIFAR-10 Batch 1:  Loss:     1.7497 Validation Accuracy: 0.288200\n",
      "Epoch 20, CIFAR-10 Batch 1:  Loss:     1.7442 Validation Accuracy: 0.292000\n",
      "Epoch 21, CIFAR-10 Batch 1:  Loss:     1.7289 Validation Accuracy: 0.285200\n",
      "Epoch 22, CIFAR-10 Batch 1:  Loss:     1.7133 Validation Accuracy: 0.289200\n",
      "Epoch 23, CIFAR-10 Batch 1:  Loss:     1.6918 Validation Accuracy: 0.292800\n",
      "Epoch 24, CIFAR-10 Batch 1:  Loss:     1.6797 Validation Accuracy: 0.290400\n",
      "Epoch 25, CIFAR-10 Batch 1:  Loss:     1.6443 Validation Accuracy: 0.288800\n",
      "Epoch 26, CIFAR-10 Batch 1:  Loss:     1.6551 Validation Accuracy: 0.300400\n",
      "Epoch 27, CIFAR-10 Batch 1:  Loss:     1.6161 Validation Accuracy: 0.294200\n",
      "Epoch 28, CIFAR-10 Batch 1:  Loss:     1.6296 Validation Accuracy: 0.296000\n",
      "Epoch 29, CIFAR-10 Batch 1:  Loss:     1.5938 Validation Accuracy: 0.294400\n",
      "Epoch 30, CIFAR-10 Batch 1:  Loss:     1.5747 Validation Accuracy: 0.298200\n"
     ]
    }
   ],
   "source": [
    "\"\"\"\n",
    "DON'T MODIFY ANYTHING IN THIS CELL\n",
    "\"\"\"\n",
    "print('Checking the Training on a Single Batch...')\n",
    "with tf.Session() as sess:\n",
    "    # Initializing the variables\n",
    "    sess.run(tf.global_variables_initializer())\n",
    "    \n",
    "    # Training cycle\n",
    "    for epoch in range(epochs):\n",
    "        batch_i = 1\n",
    "        for batch_features, batch_labels in helper.load_preprocess_training_batch(batch_i, batch_size):\n",
    "            train_neural_network(sess, optimizer, keep_probability, batch_features, batch_labels)\n",
    "        print('Epoch {:>2}, CIFAR-10 Batch {}:  '.format(epoch + 1, batch_i), end='')\n",
    "        print_stats(sess, batch_features, batch_labels, cost, accuracy)"
   ]
  },
  {
   "cell_type": "markdown",
   "metadata": {
    "deletable": true,
    "editable": true
   },
   "source": [
    "### Fully Train the Model\n",
    "Now that you got a good accuracy with a single CIFAR-10 batch, try it with all five batches."
   ]
  },
  {
   "cell_type": "code",
   "execution_count": 78,
   "metadata": {
    "collapsed": false,
    "deletable": true,
    "editable": true
   },
   "outputs": [
    {
     "name": "stdout",
     "output_type": "stream",
     "text": [
      "Training...\n",
      "Epoch  1, CIFAR-10 Batch 1:  Loss:     2.3113 Validation Accuracy: 0.119600\n",
      "Epoch  1, CIFAR-10 Batch 2:  Loss:     2.2720 Validation Accuracy: 0.117800\n",
      "Epoch  1, CIFAR-10 Batch 3:  Loss:     2.2763 Validation Accuracy: 0.130400\n",
      "Epoch  1, CIFAR-10 Batch 4:  Loss:     2.3094 Validation Accuracy: 0.135000\n",
      "Epoch  1, CIFAR-10 Batch 5:  Loss:     2.2841 Validation Accuracy: 0.146000\n",
      "Epoch  2, CIFAR-10 Batch 1:  Loss:     2.2932 Validation Accuracy: 0.139200\n",
      "Epoch  2, CIFAR-10 Batch 2:  Loss:     2.2903 Validation Accuracy: 0.141600\n",
      "Epoch  2, CIFAR-10 Batch 3:  Loss:     2.2647 Validation Accuracy: 0.129200\n",
      "Epoch  2, CIFAR-10 Batch 4:  Loss:     2.2881 Validation Accuracy: 0.161000\n",
      "Epoch  2, CIFAR-10 Batch 5:  Loss:     2.2202 Validation Accuracy: 0.159800\n",
      "Epoch  3, CIFAR-10 Batch 1:  Loss:     2.2486 Validation Accuracy: 0.166200\n",
      "Epoch  3, CIFAR-10 Batch 2:  Loss:     2.3171 Validation Accuracy: 0.169200\n",
      "Epoch  3, CIFAR-10 Batch 3:  Loss:     2.2108 Validation Accuracy: 0.148800\n",
      "Epoch  3, CIFAR-10 Batch 4:  Loss:     2.2393 Validation Accuracy: 0.148800\n",
      "Epoch  3, CIFAR-10 Batch 5:  Loss:     2.2103 Validation Accuracy: 0.148400\n",
      "Epoch  4, CIFAR-10 Batch 1:  Loss:     2.2162 Validation Accuracy: 0.159800\n",
      "Epoch  4, CIFAR-10 Batch 2:  Loss:     2.2924 Validation Accuracy: 0.155400\n",
      "Epoch  4, CIFAR-10 Batch 3:  Loss:     2.1407 Validation Accuracy: 0.163200\n",
      "Epoch  4, CIFAR-10 Batch 4:  Loss:     2.2194 Validation Accuracy: 0.172200\n",
      "Epoch  4, CIFAR-10 Batch 5:  Loss:     2.1652 Validation Accuracy: 0.186800\n",
      "Epoch  5, CIFAR-10 Batch 1:  Loss:     2.2230 Validation Accuracy: 0.187000\n",
      "Epoch  5, CIFAR-10 Batch 2:  Loss:     2.2521 Validation Accuracy: 0.193800\n",
      "Epoch  5, CIFAR-10 Batch 3:  Loss:     2.1166 Validation Accuracy: 0.195600\n",
      "Epoch  5, CIFAR-10 Batch 4:  Loss:     2.1608 Validation Accuracy: 0.209000\n",
      "Epoch  5, CIFAR-10 Batch 5:  Loss:     2.1444 Validation Accuracy: 0.210200\n",
      "Epoch  6, CIFAR-10 Batch 1:  Loss:     2.1893 Validation Accuracy: 0.210200\n",
      "Epoch  6, CIFAR-10 Batch 2:  Loss:     2.2333 Validation Accuracy: 0.210600\n",
      "Epoch  6, CIFAR-10 Batch 3:  Loss:     2.0631 Validation Accuracy: 0.220000\n",
      "Epoch  6, CIFAR-10 Batch 4:  Loss:     2.1044 Validation Accuracy: 0.234600\n",
      "Epoch  6, CIFAR-10 Batch 5:  Loss:     2.1520 Validation Accuracy: 0.242400\n",
      "Epoch  7, CIFAR-10 Batch 1:  Loss:     2.1614 Validation Accuracy: 0.242400\n",
      "Epoch  7, CIFAR-10 Batch 2:  Loss:     2.1695 Validation Accuracy: 0.245000\n",
      "Epoch  7, CIFAR-10 Batch 3:  Loss:     2.0198 Validation Accuracy: 0.252000\n",
      "Epoch  7, CIFAR-10 Batch 4:  Loss:     2.0979 Validation Accuracy: 0.248000\n",
      "Epoch  7, CIFAR-10 Batch 5:  Loss:     2.1718 Validation Accuracy: 0.249400\n",
      "Epoch  8, CIFAR-10 Batch 1:  Loss:     2.1865 Validation Accuracy: 0.254800\n",
      "Epoch  8, CIFAR-10 Batch 2:  Loss:     2.1576 Validation Accuracy: 0.261400\n",
      "Epoch  8, CIFAR-10 Batch 3:  Loss:     2.0214 Validation Accuracy: 0.253600\n",
      "Epoch  8, CIFAR-10 Batch 4:  Loss:     2.0420 Validation Accuracy: 0.255800\n",
      "Epoch  8, CIFAR-10 Batch 5:  Loss:     2.0538 Validation Accuracy: 0.269200\n",
      "Epoch  9, CIFAR-10 Batch 1:  Loss:     2.1345 Validation Accuracy: 0.267400\n",
      "Epoch  9, CIFAR-10 Batch 2:  Loss:     1.9451 Validation Accuracy: 0.269800\n",
      "Epoch  9, CIFAR-10 Batch 3:  Loss:     1.8625 Validation Accuracy: 0.278200\n",
      "Epoch  9, CIFAR-10 Batch 4:  Loss:     1.9082 Validation Accuracy: 0.283800\n",
      "Epoch  9, CIFAR-10 Batch 5:  Loss:     1.9351 Validation Accuracy: 0.292800\n",
      "Epoch 10, CIFAR-10 Batch 1:  Loss:     2.1433 Validation Accuracy: 0.302200\n",
      "Epoch 10, CIFAR-10 Batch 2:  Loss:     1.8448 Validation Accuracy: 0.307800\n",
      "Epoch 10, CIFAR-10 Batch 3:  Loss:     1.8082 Validation Accuracy: 0.296200\n",
      "Epoch 10, CIFAR-10 Batch 4:  Loss:     1.9023 Validation Accuracy: 0.302400\n",
      "Epoch 10, CIFAR-10 Batch 5:  Loss:     1.9534 Validation Accuracy: 0.309000\n",
      "Epoch 11, CIFAR-10 Batch 1:  Loss:     2.0851 Validation Accuracy: 0.301800\n",
      "Epoch 11, CIFAR-10 Batch 2:  Loss:     1.8545 Validation Accuracy: 0.315200\n",
      "Epoch 11, CIFAR-10 Batch 3:  Loss:     1.7765 Validation Accuracy: 0.311600\n",
      "Epoch 11, CIFAR-10 Batch 4:  Loss:     1.9076 Validation Accuracy: 0.320400\n",
      "Epoch 11, CIFAR-10 Batch 5:  Loss:     1.9320 Validation Accuracy: 0.312600\n",
      "Epoch 12, CIFAR-10 Batch 1:  Loss:     2.0437 Validation Accuracy: 0.311600\n",
      "Epoch 12, CIFAR-10 Batch 2:  Loss:     1.8168 Validation Accuracy: 0.320800\n",
      "Epoch 12, CIFAR-10 Batch 3:  Loss:     1.7145 Validation Accuracy: 0.321000\n",
      "Epoch 12, CIFAR-10 Batch 4:  Loss:     1.8602 Validation Accuracy: 0.320800\n",
      "Epoch 12, CIFAR-10 Batch 5:  Loss:     1.9228 Validation Accuracy: 0.325000\n",
      "Epoch 13, CIFAR-10 Batch 1:  Loss:     2.0624 Validation Accuracy: 0.320000\n",
      "Epoch 13, CIFAR-10 Batch 2:  Loss:     1.7713 Validation Accuracy: 0.326200\n",
      "Epoch 13, CIFAR-10 Batch 3:  Loss:     1.6996 Validation Accuracy: 0.333000\n",
      "Epoch 13, CIFAR-10 Batch 4:  Loss:     1.8284 Validation Accuracy: 0.328600\n",
      "Epoch 13, CIFAR-10 Batch 5:  Loss:     1.8847 Validation Accuracy: 0.329600\n",
      "Epoch 14, CIFAR-10 Batch 1:  Loss:     1.9873 Validation Accuracy: 0.322000\n",
      "Epoch 14, CIFAR-10 Batch 2:  Loss:     1.7694 Validation Accuracy: 0.331600\n",
      "Epoch 14, CIFAR-10 Batch 3:  Loss:     1.6604 Validation Accuracy: 0.341800\n",
      "Epoch 14, CIFAR-10 Batch 4:  Loss:     1.7931 Validation Accuracy: 0.339000\n",
      "Epoch 14, CIFAR-10 Batch 5:  Loss:     1.8815 Validation Accuracy: 0.339800\n",
      "Epoch 15, CIFAR-10 Batch 1:  Loss:     2.0177 Validation Accuracy: 0.326200\n",
      "Epoch 15, CIFAR-10 Batch 2:  Loss:     1.7425 Validation Accuracy: 0.334400\n",
      "Epoch 15, CIFAR-10 Batch 3:  Loss:     1.6025 Validation Accuracy: 0.340600\n",
      "Epoch 15, CIFAR-10 Batch 4:  Loss:     1.7714 Validation Accuracy: 0.340600\n",
      "Epoch 15, CIFAR-10 Batch 5:  Loss:     1.8293 Validation Accuracy: 0.342200\n",
      "Epoch 16, CIFAR-10 Batch 1:  Loss:     1.9676 Validation Accuracy: 0.326800\n",
      "Epoch 16, CIFAR-10 Batch 2:  Loss:     1.7581 Validation Accuracy: 0.343800\n",
      "Epoch 16, CIFAR-10 Batch 3:  Loss:     1.5559 Validation Accuracy: 0.348800\n",
      "Epoch 16, CIFAR-10 Batch 4:  Loss:     1.7120 Validation Accuracy: 0.344200\n",
      "Epoch 16, CIFAR-10 Batch 5:  Loss:     1.8411 Validation Accuracy: 0.344200\n",
      "Epoch 17, CIFAR-10 Batch 1:  Loss:     2.0136 Validation Accuracy: 0.340400\n",
      "Epoch 17, CIFAR-10 Batch 2:  Loss:     1.7162 Validation Accuracy: 0.346200\n",
      "Epoch 17, CIFAR-10 Batch 3:  Loss:     1.5275 Validation Accuracy: 0.341400\n",
      "Epoch 17, CIFAR-10 Batch 4:  Loss:     1.6641 Validation Accuracy: 0.353000\n",
      "Epoch 17, CIFAR-10 Batch 5:  Loss:     1.8278 Validation Accuracy: 0.348600\n",
      "Epoch 18, CIFAR-10 Batch 1:  Loss:     1.9714 Validation Accuracy: 0.341200\n",
      "Epoch 18, CIFAR-10 Batch 2:  Loss:     1.6888 Validation Accuracy: 0.351600\n",
      "Epoch 18, CIFAR-10 Batch 3:  Loss:     1.5141 Validation Accuracy: 0.351000\n",
      "Epoch 18, CIFAR-10 Batch 4:  Loss:     1.6473 Validation Accuracy: 0.353000\n",
      "Epoch 18, CIFAR-10 Batch 5:  Loss:     1.8351 Validation Accuracy: 0.353400\n",
      "Epoch 19, CIFAR-10 Batch 1:  Loss:     1.9359 Validation Accuracy: 0.353600\n",
      "Epoch 19, CIFAR-10 Batch 2:  Loss:     1.6316 Validation Accuracy: 0.350800\n",
      "Epoch 19, CIFAR-10 Batch 3:  Loss:     1.4753 Validation Accuracy: 0.353000\n",
      "Epoch 19, CIFAR-10 Batch 4:  Loss:     1.6389 Validation Accuracy: 0.354600\n",
      "Epoch 19, CIFAR-10 Batch 5:  Loss:     1.8049 Validation Accuracy: 0.353400\n",
      "Epoch 20, CIFAR-10 Batch 1:  Loss:     1.9367 Validation Accuracy: 0.358600\n",
      "Epoch 20, CIFAR-10 Batch 2:  Loss:     1.6155 Validation Accuracy: 0.353400\n",
      "Epoch 20, CIFAR-10 Batch 3:  Loss:     1.4603 Validation Accuracy: 0.356000\n",
      "Epoch 20, CIFAR-10 Batch 4:  Loss:     1.6179 Validation Accuracy: 0.354400\n",
      "Epoch 20, CIFAR-10 Batch 5:  Loss:     1.7829 Validation Accuracy: 0.351800\n",
      "Epoch 21, CIFAR-10 Batch 1:  Loss:     1.9117 Validation Accuracy: 0.352200\n",
      "Epoch 21, CIFAR-10 Batch 2:  Loss:     1.6064 Validation Accuracy: 0.357200\n",
      "Epoch 21, CIFAR-10 Batch 3:  Loss:     1.4561 Validation Accuracy: 0.354000\n",
      "Epoch 21, CIFAR-10 Batch 4:  Loss:     1.6293 Validation Accuracy: 0.363400\n",
      "Epoch 21, CIFAR-10 Batch 5:  Loss:     1.7529 Validation Accuracy: 0.357000\n",
      "Epoch 22, CIFAR-10 Batch 1:  Loss:     1.8770 Validation Accuracy: 0.360000\n",
      "Epoch 22, CIFAR-10 Batch 2:  Loss:     1.5974 Validation Accuracy: 0.362600\n",
      "Epoch 22, CIFAR-10 Batch 3:  Loss:     1.4551 Validation Accuracy: 0.353000\n",
      "Epoch 22, CIFAR-10 Batch 4:  Loss:     1.6069 Validation Accuracy: 0.366800\n",
      "Epoch 22, CIFAR-10 Batch 5:  Loss:     1.7232 Validation Accuracy: 0.361800\n",
      "Epoch 23, CIFAR-10 Batch 1:  Loss:     1.8719 Validation Accuracy: 0.358600\n",
      "Epoch 23, CIFAR-10 Batch 2:  Loss:     1.6006 Validation Accuracy: 0.364200\n",
      "Epoch 23, CIFAR-10 Batch 3:  Loss:     1.4422 Validation Accuracy: 0.363800\n",
      "Epoch 23, CIFAR-10 Batch 4:  Loss:     1.5916 Validation Accuracy: 0.374400\n",
      "Epoch 23, CIFAR-10 Batch 5:  Loss:     1.7276 Validation Accuracy: 0.361400\n",
      "Epoch 24, CIFAR-10 Batch 1:  Loss:     1.8321 Validation Accuracy: 0.361400\n",
      "Epoch 24, CIFAR-10 Batch 2:  Loss:     1.5618 Validation Accuracy: 0.358200\n",
      "Epoch 24, CIFAR-10 Batch 3:  Loss:     1.4182 Validation Accuracy: 0.366400\n",
      "Epoch 24, CIFAR-10 Batch 4:  Loss:     1.5539 Validation Accuracy: 0.367400\n",
      "Epoch 24, CIFAR-10 Batch 5:  Loss:     1.7223 Validation Accuracy: 0.368600\n",
      "Epoch 25, CIFAR-10 Batch 1:  Loss:     1.8173 Validation Accuracy: 0.365600\n",
      "Epoch 25, CIFAR-10 Batch 2:  Loss:     1.5439 Validation Accuracy: 0.366200\n",
      "Epoch 25, CIFAR-10 Batch 3:  Loss:     1.3977 Validation Accuracy: 0.364000\n",
      "Epoch 25, CIFAR-10 Batch 4:  Loss:     1.5475 Validation Accuracy: 0.373400\n",
      "Epoch 25, CIFAR-10 Batch 5:  Loss:     1.7185 Validation Accuracy: 0.365800\n",
      "Epoch 26, CIFAR-10 Batch 1:  Loss:     1.8036 Validation Accuracy: 0.364400\n",
      "Epoch 26, CIFAR-10 Batch 2:  Loss:     1.5431 Validation Accuracy: 0.365200\n",
      "Epoch 26, CIFAR-10 Batch 3:  Loss:     1.3780 Validation Accuracy: 0.365600\n",
      "Epoch 26, CIFAR-10 Batch 4:  Loss:     1.5223 Validation Accuracy: 0.374400\n",
      "Epoch 26, CIFAR-10 Batch 5:  Loss:     1.7155 Validation Accuracy: 0.366800\n",
      "Epoch 27, CIFAR-10 Batch 1:  Loss:     1.8108 Validation Accuracy: 0.373800\n",
      "Epoch 27, CIFAR-10 Batch 2:  Loss:     1.5069 Validation Accuracy: 0.363600\n",
      "Epoch 27, CIFAR-10 Batch 3:  Loss:     1.3389 Validation Accuracy: 0.362000\n",
      "Epoch 27, CIFAR-10 Batch 4:  Loss:     1.4909 Validation Accuracy: 0.376000\n",
      "Epoch 27, CIFAR-10 Batch 5:  Loss:     1.6905 Validation Accuracy: 0.371000\n",
      "Epoch 28, CIFAR-10 Batch 1:  Loss:     1.8033 Validation Accuracy: 0.375600\n",
      "Epoch 28, CIFAR-10 Batch 2:  Loss:     1.4721 Validation Accuracy: 0.365200\n",
      "Epoch 28, CIFAR-10 Batch 3:  Loss:     1.3322 Validation Accuracy: 0.371400\n",
      "Epoch 28, CIFAR-10 Batch 4:  Loss:     1.4651 Validation Accuracy: 0.378400\n",
      "Epoch 28, CIFAR-10 Batch 5:  Loss:     1.6503 Validation Accuracy: 0.376000\n",
      "Epoch 29, CIFAR-10 Batch 1:  Loss:     1.7881 Validation Accuracy: 0.368600\n",
      "Epoch 29, CIFAR-10 Batch 2:  Loss:     1.4479 Validation Accuracy: 0.370800\n",
      "Epoch 29, CIFAR-10 Batch 3:  Loss:     1.3137 Validation Accuracy: 0.369400\n",
      "Epoch 29, CIFAR-10 Batch 4:  Loss:     1.4592 Validation Accuracy: 0.379000\n",
      "Epoch 29, CIFAR-10 Batch 5:  Loss:     1.6588 Validation Accuracy: 0.369000\n",
      "Epoch 30, CIFAR-10 Batch 1:  Loss:     1.7459 Validation Accuracy: 0.376600\n",
      "Epoch 30, CIFAR-10 Batch 2:  Loss:     1.4584 Validation Accuracy: 0.372600\n",
      "Epoch 30, CIFAR-10 Batch 3:  Loss:     1.2844 Validation Accuracy: 0.372600\n",
      "Epoch 30, CIFAR-10 Batch 4:  Loss:     1.4712 Validation Accuracy: 0.376400\n",
      "Epoch 30, CIFAR-10 Batch 5:  Loss:     1.6491 Validation Accuracy: 0.374800\n"
     ]
    }
   ],
   "source": [
    "\"\"\"\n",
    "DON'T MODIFY ANYTHING IN THIS CELL\n",
    "\"\"\"\n",
    "save_model_path = './image_classification'\n",
    "\n",
    "print('Training...')\n",
    "with tf.Session() as sess:\n",
    "    # Initializing the variables\n",
    "    sess.run(tf.global_variables_initializer())\n",
    "    \n",
    "    # Training cycle\n",
    "    for epoch in range(epochs):\n",
    "        # Loop over all batches\n",
    "        n_batches = 5\n",
    "        for batch_i in range(1, n_batches + 1):\n",
    "            for batch_features, batch_labels in helper.load_preprocess_training_batch(batch_i, batch_size):\n",
    "                train_neural_network(sess, optimizer, keep_probability, batch_features, batch_labels)\n",
    "            print('Epoch {:>2}, CIFAR-10 Batch {}:  '.format(epoch + 1, batch_i), end='')\n",
    "            print_stats(sess, batch_features, batch_labels, cost, accuracy)\n",
    "            \n",
    "    # Save Model\n",
    "    saver = tf.train.Saver()\n",
    "    save_path = saver.save(sess, save_model_path)"
   ]
  },
  {
   "cell_type": "markdown",
   "metadata": {
    "deletable": true,
    "editable": true
   },
   "source": [
    "# Checkpoint\n",
    "The model has been saved to disk.\n",
    "## Test Model\n",
    "Test your model against the test dataset.  This will be your final accuracy. You should have an accuracy greater than 50%. If you don't, keep tweaking the model architecture and parameters."
   ]
  },
  {
   "cell_type": "code",
   "execution_count": 79,
   "metadata": {
    "collapsed": false,
    "deletable": true,
    "editable": true
   },
   "outputs": [
    {
     "name": "stdout",
     "output_type": "stream",
     "text": [
      "Testing Accuracy: 0.37529296875\n",
      "\n"
     ]
    },
    {
     "data": {
      "image/png": "[encoded data removed]",
      "text/plain": [
       "<matplotlib.figure.Figure at 0x7f4e605b7978>"
      ]
     },
     "metadata": {
      "image/png": {
       "height": 319,
       "width": 355
      }
     },
     "output_type": "display_data"
    }
   ],
   "source": [
    "\"\"\"\n",
    "DON'T MODIFY ANYTHING IN THIS CELL\n",
    "\"\"\"\n",
    "%matplotlib inline\n",
    "%config InlineBackend.figure_format = 'retina'\n",
    "\n",
    "import tensorflow as tf\n",
    "import pickle\n",
    "import helper\n",
    "import random\n",
    "\n",
    "# Set batch size if not already set\n",
    "try:\n",
    "    if batch_size:\n",
    "        pass\n",
    "except NameError:\n",
    "    batch_size = 64\n",
    "\n",
    "save_model_path = './image_classification'\n",
    "n_samples = 4\n",
    "top_n_predictions = 3\n",
    "\n",
    "def test_model():\n",
    "    \"\"\"\n",
    "    Test the saved model against the test dataset\n",
    "    \"\"\"\n",
    "\n",
    "    test_features, test_labels = pickle.load(open('preprocess_training.p', mode='rb'))\n",
    "    loaded_graph = tf.Graph()\n",
    "\n",
    "    with tf.Session(graph=loaded_graph) as sess:\n",
    "        # Load model\n",
    "        loader = tf.train.import_meta_graph(save_model_path + '.meta')\n",
    "        loader.restore(sess, save_model_path)\n",
    "\n",
    "        # Get Tensors from loaded model\n",
    "        loaded_x = loaded_graph.get_tensor_by_name('x:0')\n",
    "        loaded_y = loaded_graph.get_tensor_by_name('y:0')\n",
    "        loaded_keep_prob = loaded_graph.get_tensor_by_name('keep_prob:0')\n",
    "        loaded_logits = loaded_graph.get_tensor_by_name('logits:0')\n",
    "        loaded_acc = loaded_graph.get_tensor_by_name('accuracy:0')\n",
    "        \n",
    "        # Get accuracy in batches for memory limitations\n",
    "        test_batch_acc_total = 0\n",
    "        test_batch_count = 0\n",
    "        \n",
    "        for train_feature_batch, train_label_batch in helper.batch_features_labels(test_features, test_labels, batch_size):\n",
    "            test_batch_acc_total += sess.run(\n",
    "                loaded_acc,\n",
    "                feed_dict={loaded_x: train_feature_batch, loaded_y: train_label_batch, loaded_keep_prob: 1.0})\n",
    "            test_batch_count += 1\n",
    "\n",
    "        print('Testing Accuracy: {}\\n'.format(test_batch_acc_total/test_batch_count))\n",
    "\n",
    "        # Print Random Samples\n",
    "        random_test_features, random_test_labels = tuple(zip(*random.sample(list(zip(test_features, test_labels)), n_samples)))\n",
    "        random_test_predictions = sess.run(\n",
    "            tf.nn.top_k(tf.nn.softmax(loaded_logits), top_n_predictions),\n",
    "            feed_dict={loaded_x: random_test_features, loaded_y: random_test_labels, loaded_keep_prob: 1.0})\n",
    "        helper.display_image_predictions(random_test_features, random_test_labels, random_test_predictions)\n",
    "\n",
    "\n",
    "test_model()"
   ]
  },
  {
   "cell_type": "markdown",
   "metadata": {
    "deletable": true,
    "editable": true
   },
   "source": [
    "## Why 50-80% Accuracy?\n",
    "You might be wondering why you can't get an accuracy any higher. First things first, 50% isn't bad for a simple CNN.  Pure guessing would get you 10% accuracy. However, you might notice people are getting scores [well above 80%](http://rodrigob.github.io/are_we_there_yet/build/classification_datasets_results.html#43494641522d3130).  That's because we haven't taught you all there is to know about neural networks. We still need to cover a few more techniques.\n",
    "## Submitting This Project\n",
    "When submitting this project, make sure to run all the cells before saving the notebook.  Save the notebook file as \"dlnd_image_classification.ipynb\" and save it as a HTML file under \"File\" -> \"Download as\".  Include the \"helper.py\" and \"problem_unittests.py\" files in your submission."
   ]
  }
 ],
 "metadata": {
  "kernelspec": {
   "display_name": "Python 3",
   "language": "python",
   "name": "python3"
  },
  "language_info": {
   "codemirror_mode": {
    "name": "ipython",
    "version": 3
   },
   "file_extension": ".py",
   "mimetype": "text/x-python",
   "name": "python",
   "nbconvert_exporter": "python",
   "pygments_lexer": "ipython3",
   "version": "3.5.2"
  },
  "widgets": {
   "state": {},
   "version": "1.1.2"
  }
 },
 "nbformat": 4,
 "nbformat_minor": 0
}
